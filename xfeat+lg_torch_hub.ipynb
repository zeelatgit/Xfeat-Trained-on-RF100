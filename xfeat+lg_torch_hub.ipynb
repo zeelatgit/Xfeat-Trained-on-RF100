{
 "nbformat": 4,
 "nbformat_minor": 0,
 "metadata": {
  "colab": {
   "provenance": [],
   "collapsed_sections": [
    "KM1KQaj9-oOv"
   ]
  },
  "kernelspec": {
   "name": "python3",
   "display_name": "Python 3 (ipykernel)",
   "language": "python"
  },
  "language_info": {
   "name": "python"
  }
 },
 "cells": [
  {
   "cell_type": "markdown",
   "source": [
    "# XFeat matching example using torch hub\n"
   ],
   "metadata": {
    "id": "GzFYZYcT9oyb"
   }
  },
  {
   "cell_type": "markdown",
   "source": [
    "## Initialize XFeat"
   ],
   "metadata": {
    "id": "97Mbt4a89z3Z"
   }
  },
  {
   "cell_type": "code",
   "source": [
    "!pip install imageio\n",
    "import numpy as np\n",
    "import imageio as imio\n",
    "import os\n",
    "import torch\n",
    "import tqdm\n",
    "import cv2\n",
    "import matplotlib.pyplot as plt\n",
    "from kornia.feature.lightglue import LightGlue\n",
    "\n",
    "\n",
    "#!pip install kornia kornia-rs --no-deps  \n",
    "#REQUIRED for Lightglue matching\n",
    "\n",
    "xfeat = torch.hub.load('verlab/accelerated_features', 'XFeat', pretrained = True, top_k = 4096)\n",
    "\n",
    "#Load some example images\n",
    "im1 = np.copy(imio.v2.imread('coco_20k/frame03342_rrgb_jpg.rf.f61dc581524329c19a2d11cc38384ceb.jpg')[..., ::-1])\n",
    "im2 = np.copy(imio.v2.imread('coco_20k/frame03342_rrgb_jpg.rf.f61dc581524329c19a2d11cc38384ceb.jpg')[..., ::-1])"
   ],
   "metadata": {
    "colab": {
     "base_uri": "https://localhost:8080/"
    },
    "id": "oIl4kgXY9zFB",
    "outputId": "da6976c6-4185-447f-8ac9-03f5c102ce20",
    "ExecuteTime": {
     "end_time": "2024-09-13T11:57:51.260336Z",
     "start_time": "2024-09-13T11:57:49.874934Z"
    }
   },
   "outputs": [
    {
     "name": "stdout",
     "output_type": "stream",
     "text": [
      "Requirement already satisfied: imageio in c:\\users\\dluci\\anaconda3\\envs\\xfeat\\lib\\site-packages (2.35.1)\n",
      "Requirement already satisfied: numpy in c:\\users\\dluci\\anaconda3\\envs\\xfeat\\lib\\site-packages (from imageio) (1.24.3)\n",
      "Requirement already satisfied: pillow>=8.3.2 in c:\\users\\dluci\\anaconda3\\envs\\xfeat\\lib\\site-packages (from imageio) (10.4.0)\n"
     ]
    },
    {
     "ename": "ImportError",
     "evalue": "cannot import name 'ModuleList' from 'kornia.core' (C:\\Users\\dluci\\anaconda3\\envs\\xfeat\\lib\\site-packages\\kornia\\core\\__init__.py)",
     "output_type": "error",
     "traceback": [
      "\u001B[1;31m---------------------------------------------------------------------------\u001B[0m",
      "\u001B[1;31mImportError\u001B[0m                               Traceback (most recent call last)",
      "Cell \u001B[1;32mIn[10], line 10\u001B[0m\n\u001B[0;32m      8\u001B[0m \u001B[38;5;28;01mimport\u001B[39;00m \u001B[38;5;21;01mcv2\u001B[39;00m\n\u001B[0;32m      9\u001B[0m \u001B[38;5;28;01mimport\u001B[39;00m \u001B[38;5;21;01mmatplotlib\u001B[39;00m\u001B[38;5;21;01m.\u001B[39;00m\u001B[38;5;21;01mpyplot\u001B[39;00m \u001B[38;5;28;01mas\u001B[39;00m \u001B[38;5;21;01mplt\u001B[39;00m\n\u001B[1;32m---> 10\u001B[0m \u001B[38;5;28;01mfrom\u001B[39;00m \u001B[38;5;21;01mkornia\u001B[39;00m\u001B[38;5;21;01m.\u001B[39;00m\u001B[38;5;21;01mfeature\u001B[39;00m\u001B[38;5;21;01m.\u001B[39;00m\u001B[38;5;21;01mlightglue\u001B[39;00m \u001B[38;5;28;01mimport\u001B[39;00m LightGlue\n\u001B[0;32m     13\u001B[0m \u001B[38;5;66;03m#!pip install kornia kornia-rs --no-deps  \u001B[39;00m\n\u001B[0;32m     14\u001B[0m \u001B[38;5;66;03m#REQUIRED for Lightglue matching\u001B[39;00m\n\u001B[0;32m     16\u001B[0m xfeat \u001B[38;5;241m=\u001B[39m torch\u001B[38;5;241m.\u001B[39mhub\u001B[38;5;241m.\u001B[39mload(\u001B[38;5;124m'\u001B[39m\u001B[38;5;124mverlab/accelerated_features\u001B[39m\u001B[38;5;124m'\u001B[39m, \u001B[38;5;124m'\u001B[39m\u001B[38;5;124mXFeat\u001B[39m\u001B[38;5;124m'\u001B[39m, pretrained \u001B[38;5;241m=\u001B[39m \u001B[38;5;28;01mTrue\u001B[39;00m, top_k \u001B[38;5;241m=\u001B[39m \u001B[38;5;241m4096\u001B[39m)\n",
      "File \u001B[1;32m~\\anaconda3\\envs\\xfeat\\lib\\site-packages\\kornia\\feature\\lightglue.py:11\u001B[0m\n\u001B[0;32m      8\u001B[0m \u001B[38;5;28;01mimport\u001B[39;00m \u001B[38;5;21;01mtorch\u001B[39;00m\u001B[38;5;21;01m.\u001B[39;00m\u001B[38;5;21;01mnn\u001B[39;00m\u001B[38;5;21;01m.\u001B[39;00m\u001B[38;5;21;01mfunctional\u001B[39;00m \u001B[38;5;28;01mas\u001B[39;00m \u001B[38;5;21;01mF\u001B[39;00m\n\u001B[0;32m      9\u001B[0m \u001B[38;5;28;01mfrom\u001B[39;00m \u001B[38;5;21;01mtorch\u001B[39;00m \u001B[38;5;28;01mimport\u001B[39;00m nn\n\u001B[1;32m---> 11\u001B[0m \u001B[38;5;28;01mfrom\u001B[39;00m \u001B[38;5;21;01mkornia\u001B[39;00m\u001B[38;5;21;01m.\u001B[39;00m\u001B[38;5;21;01mcore\u001B[39;00m \u001B[38;5;28;01mimport\u001B[39;00m (\n\u001B[0;32m     12\u001B[0m     Module,\n\u001B[0;32m     13\u001B[0m     ModuleList,\n\u001B[0;32m     14\u001B[0m     Tensor,\n\u001B[0;32m     15\u001B[0m     arange,\n\u001B[0;32m     16\u001B[0m     concatenate,\n\u001B[0;32m     17\u001B[0m     cos,\n\u001B[0;32m     18\u001B[0m     einsum,\n\u001B[0;32m     19\u001B[0m     ones,\n\u001B[0;32m     20\u001B[0m     ones_like,\n\u001B[0;32m     21\u001B[0m     sin,\n\u001B[0;32m     22\u001B[0m     stack,\n\u001B[0;32m     23\u001B[0m     where,\n\u001B[0;32m     24\u001B[0m     zeros,\n\u001B[0;32m     25\u001B[0m )\n\u001B[0;32m     26\u001B[0m \u001B[38;5;28;01mfrom\u001B[39;00m \u001B[38;5;21;01mkornia\u001B[39;00m\u001B[38;5;21;01m.\u001B[39;00m\u001B[38;5;21;01mcore\u001B[39;00m\u001B[38;5;21;01m.\u001B[39;00m\u001B[38;5;21;01mcheck\u001B[39;00m \u001B[38;5;28;01mimport\u001B[39;00m KORNIA_CHECK\n\u001B[0;32m     27\u001B[0m \u001B[38;5;28;01mfrom\u001B[39;00m \u001B[38;5;21;01mkornia\u001B[39;00m\u001B[38;5;21;01m.\u001B[39;00m\u001B[38;5;21;01mfeature\u001B[39;00m\u001B[38;5;21;01m.\u001B[39;00m\u001B[38;5;21;01mlaf\u001B[39;00m \u001B[38;5;28;01mimport\u001B[39;00m laf_to_three_points, scale_laf\n",
      "\u001B[1;31mImportError\u001B[0m: cannot import name 'ModuleList' from 'kornia.core' (C:\\Users\\dluci\\anaconda3\\envs\\xfeat\\lib\\site-packages\\kornia\\core\\__init__.py)"
     ]
    }
   ],
   "execution_count": 10
  },
  {
   "cell_type": "markdown",
   "source": [
    "## Simple function that fits an homography in a set of matches and draw the homography transform"
   ],
   "metadata": {
    "id": "KM1KQaj9-oOv"
   }
  },
  {
   "cell_type": "code",
   "source": [
    "import cv2\n",
    "import numpy as np\n",
    "\n",
    "def warp_corners_and_draw_matches(ref_points, dst_points, img1, img2):\n",
    "    # Calculate the Homography matrix\n",
    "    H, mask = cv2.findHomography(ref_points, dst_points, cv2.USAC_MAGSAC, 3.5, maxIters=1_000, confidence=0.999)\n",
    "    mask = mask.flatten()\n",
    "\n",
    "    print('inlier ratio: ', np.sum(mask)/len(mask))\n",
    "\n",
    "    # Get corners of the first image (image1)\n",
    "    h, w = img1.shape[:2]\n",
    "    corners_img1 = np.array([[0, 0], [w-1, 0], [w-1, h-1], [0, h-1]], dtype=np.float32).reshape(-1, 1, 2)\n",
    "\n",
    "    # Warp corners to the second image (image2) space\n",
    "    warped_corners = cv2.perspectiveTransform(corners_img1, H)\n",
    "\n",
    "    # Draw the warped corners in image2\n",
    "    img2_with_corners = img2.copy()\n",
    "    for i in range(len(warped_corners)):\n",
    "        start_point = tuple(warped_corners[i-1][0].astype(int))\n",
    "        end_point = tuple(warped_corners[i][0].astype(int))\n",
    "        cv2.line(img2_with_corners, start_point, end_point, (0, 255, 0), 4)  # Using solid green for corners\n",
    "\n",
    "    # Prepare keypoints and matches for drawMatches function\n",
    "    keypoints1 = [cv2.KeyPoint(p[0], p[1], 5) for p in ref_points]\n",
    "    keypoints2 = [cv2.KeyPoint(p[0], p[1], 5) for p in dst_points]\n",
    "    matches = [cv2.DMatch(i,i,0) for i in range(len(mask)) if mask[i]]\n",
    "\n",
    "    # Draw inlier matches\n",
    "    img_matches = cv2.drawMatches(img1, keypoints1, img2_with_corners, keypoints2, matches, None,\n",
    "                                  matchColor=(0, 255, 0), flags=2)\n",
    "\n",
    "    return img_matches\n"
   ],
   "metadata": {
    "id": "tfpevoC7-36X",
    "ExecuteTime": {
     "end_time": "2024-09-13T11:33:26.896676Z",
     "start_time": "2024-09-13T11:33:26.880676Z"
    }
   },
   "outputs": [],
   "execution_count": 5
  },
  {
   "cell_type": "markdown",
   "source": [
    "## Matching example - LightGlue"
   ],
   "metadata": {
    "id": "b83vE-Dt-cTC"
   }
  },
  {
   "cell_type": "code",
   "source": [
    "# Inference with batch = 1\n",
    "output0 = xfeat.detectAndCompute(im1, top_k = 4096)[0]\n",
    "output1 = xfeat.detectAndCompute(im2, top_k = 4096)[0]\n",
    "\n",
    "#Update with image resolution (required)\n",
    "output0.update({'image_size': (im1.shape[1], im1.shape[0])})\n",
    "output1.update({'image_size': (im2.shape[1], im2.shape[0])})\n",
    "\n",
    "mkpts_0, mkpts_1 = xfeat.match_lighterglue(output0, output1)\n",
    "\n",
    "canvas = warp_corners_and_draw_matches(mkpts_0, mkpts_1, im1, im2)\n",
    "plt.figure(figsize=(12,12))\n",
    "plt.imshow(canvas[..., ::-1]), plt.show()"
   ],
   "metadata": {
    "colab": {
     "base_uri": "https://localhost:8080/",
     "height": 466
    },
    "id": "8qm_cdIq9-jy",
    "outputId": "608d8489-4da3-44a6-e7bf-ea5241cb4fe6",
    "ExecuteTime": {
     "end_time": "2024-09-13T11:44:22.015048Z",
     "start_time": "2024-09-13T11:44:21.845020Z"
    }
   },
   "outputs": [
    {
     "ename": "ModuleNotFoundError",
     "evalue": "No module named 'kornia.feature.lightglue'",
     "output_type": "error",
     "traceback": [
      "\u001B[1;31m---------------------------------------------------------------------------\u001B[0m",
      "\u001B[1;31mModuleNotFoundError\u001B[0m                       Traceback (most recent call last)",
      "Cell \u001B[1;32mIn[7], line 9\u001B[0m\n\u001B[0;32m      6\u001B[0m output0\u001B[38;5;241m.\u001B[39mupdate({\u001B[38;5;124m'\u001B[39m\u001B[38;5;124mimage_size\u001B[39m\u001B[38;5;124m'\u001B[39m: (im1\u001B[38;5;241m.\u001B[39mshape[\u001B[38;5;241m1\u001B[39m], im1\u001B[38;5;241m.\u001B[39mshape[\u001B[38;5;241m0\u001B[39m])})\n\u001B[0;32m      7\u001B[0m output1\u001B[38;5;241m.\u001B[39mupdate({\u001B[38;5;124m'\u001B[39m\u001B[38;5;124mimage_size\u001B[39m\u001B[38;5;124m'\u001B[39m: (im2\u001B[38;5;241m.\u001B[39mshape[\u001B[38;5;241m1\u001B[39m], im2\u001B[38;5;241m.\u001B[39mshape[\u001B[38;5;241m0\u001B[39m])})\n\u001B[1;32m----> 9\u001B[0m mkpts_0, mkpts_1 \u001B[38;5;241m=\u001B[39m \u001B[43mxfeat\u001B[49m\u001B[38;5;241;43m.\u001B[39;49m\u001B[43mmatch_lighterglue\u001B[49m\u001B[43m(\u001B[49m\u001B[43moutput0\u001B[49m\u001B[43m,\u001B[49m\u001B[43m \u001B[49m\u001B[43moutput1\u001B[49m\u001B[43m)\u001B[49m\n\u001B[0;32m     11\u001B[0m canvas \u001B[38;5;241m=\u001B[39m warp_corners_and_draw_matches(mkpts_0, mkpts_1, im1, im2)\n\u001B[0;32m     12\u001B[0m plt\u001B[38;5;241m.\u001B[39mfigure(figsize\u001B[38;5;241m=\u001B[39m(\u001B[38;5;241m12\u001B[39m,\u001B[38;5;241m12\u001B[39m))\n",
      "File \u001B[1;32m~\\anaconda3\\envs\\xfeat\\lib\\site-packages\\torch\\utils\\_contextlib.py:116\u001B[0m, in \u001B[0;36mcontext_decorator.<locals>.decorate_context\u001B[1;34m(*args, **kwargs)\u001B[0m\n\u001B[0;32m    113\u001B[0m \u001B[38;5;129m@functools\u001B[39m\u001B[38;5;241m.\u001B[39mwraps(func)\n\u001B[0;32m    114\u001B[0m \u001B[38;5;28;01mdef\u001B[39;00m \u001B[38;5;21mdecorate_context\u001B[39m(\u001B[38;5;241m*\u001B[39margs, \u001B[38;5;241m*\u001B[39m\u001B[38;5;241m*\u001B[39mkwargs):\n\u001B[0;32m    115\u001B[0m     \u001B[38;5;28;01mwith\u001B[39;00m ctx_factory():\n\u001B[1;32m--> 116\u001B[0m         \u001B[38;5;28;01mreturn\u001B[39;00m \u001B[43mfunc\u001B[49m\u001B[43m(\u001B[49m\u001B[38;5;241;43m*\u001B[39;49m\u001B[43margs\u001B[49m\u001B[43m,\u001B[49m\u001B[43m \u001B[49m\u001B[38;5;241;43m*\u001B[39;49m\u001B[38;5;241;43m*\u001B[39;49m\u001B[43mkwargs\u001B[49m\u001B[43m)\u001B[49m\n",
      "File \u001B[1;32m~/.cache\\torch\\hub\\verlab_accelerated_features_main\\modules\\xfeat.py:144\u001B[0m, in \u001B[0;36mXFeat.match_lighterglue\u001B[1;34m(self, d0, d1)\u001B[0m\n\u001B[0;32m    142\u001B[0m \t\u001B[38;5;28;01mraise\u001B[39;00m \u001B[38;5;167;01mRuntimeError\u001B[39;00m(\u001B[38;5;124m'\u001B[39m\u001B[38;5;124mWe rely on kornia for LightGlue. Install with: pip install kornia\u001B[39m\u001B[38;5;124m'\u001B[39m)\n\u001B[0;32m    143\u001B[0m \u001B[38;5;28;01melif\u001B[39;00m \u001B[38;5;28mself\u001B[39m\u001B[38;5;241m.\u001B[39mlighterglue \u001B[38;5;129;01mis\u001B[39;00m \u001B[38;5;28;01mNone\u001B[39;00m:\n\u001B[1;32m--> 144\u001B[0m \t\u001B[38;5;28;01mfrom\u001B[39;00m \u001B[38;5;21;01mmodules\u001B[39;00m\u001B[38;5;21;01m.\u001B[39;00m\u001B[38;5;21;01mlighterglue\u001B[39;00m \u001B[38;5;28;01mimport\u001B[39;00m LighterGlue\n\u001B[0;32m    145\u001B[0m \t\u001B[38;5;28mself\u001B[39m\u001B[38;5;241m.\u001B[39mlighterglue \u001B[38;5;241m=\u001B[39m LighterGlue()\n\u001B[0;32m    147\u001B[0m data \u001B[38;5;241m=\u001B[39m {\n\u001B[0;32m    148\u001B[0m \t\t\u001B[38;5;124m'\u001B[39m\u001B[38;5;124mkeypoints0\u001B[39m\u001B[38;5;124m'\u001B[39m: d0[\u001B[38;5;124m'\u001B[39m\u001B[38;5;124mkeypoints\u001B[39m\u001B[38;5;124m'\u001B[39m][\u001B[38;5;28;01mNone\u001B[39;00m, \u001B[38;5;241m.\u001B[39m\u001B[38;5;241m.\u001B[39m\u001B[38;5;241m.\u001B[39m],\n\u001B[0;32m    149\u001B[0m \t\t\u001B[38;5;124m'\u001B[39m\u001B[38;5;124mkeypoints1\u001B[39m\u001B[38;5;124m'\u001B[39m: d1[\u001B[38;5;124m'\u001B[39m\u001B[38;5;124mkeypoints\u001B[39m\u001B[38;5;124m'\u001B[39m][\u001B[38;5;28;01mNone\u001B[39;00m, \u001B[38;5;241m.\u001B[39m\u001B[38;5;241m.\u001B[39m\u001B[38;5;241m.\u001B[39m],\n\u001B[1;32m   (...)\u001B[0m\n\u001B[0;32m    153\u001B[0m \t\t\u001B[38;5;124m'\u001B[39m\u001B[38;5;124mimage_size1\u001B[39m\u001B[38;5;124m'\u001B[39m: torch\u001B[38;5;241m.\u001B[39mtensor(d1[\u001B[38;5;124m'\u001B[39m\u001B[38;5;124mimage_size\u001B[39m\u001B[38;5;124m'\u001B[39m])\u001B[38;5;241m.\u001B[39mto(\u001B[38;5;28mself\u001B[39m\u001B[38;5;241m.\u001B[39mdev)[\u001B[38;5;28;01mNone\u001B[39;00m, \u001B[38;5;241m.\u001B[39m\u001B[38;5;241m.\u001B[39m\u001B[38;5;241m.\u001B[39m]\n\u001B[0;32m    154\u001B[0m }\n",
      "File \u001B[1;32m~/.cache\\torch\\hub\\verlab_accelerated_features_main\\modules\\lighterglue.py:2\u001B[0m\n\u001B[1;32m----> 2\u001B[0m \u001B[38;5;28;01mfrom\u001B[39;00m \u001B[38;5;21;01mkornia\u001B[39;00m\u001B[38;5;21;01m.\u001B[39;00m\u001B[38;5;21;01mfeature\u001B[39;00m\u001B[38;5;21;01m.\u001B[39;00m\u001B[38;5;21;01mlightglue\u001B[39;00m \u001B[38;5;28;01mimport\u001B[39;00m LightGlue\n\u001B[0;32m      3\u001B[0m \u001B[38;5;28;01mfrom\u001B[39;00m \u001B[38;5;21;01mtorch\u001B[39;00m \u001B[38;5;28;01mimport\u001B[39;00m nn\n\u001B[0;32m      4\u001B[0m \u001B[38;5;28;01mimport\u001B[39;00m \u001B[38;5;21;01mtorch\u001B[39;00m\n",
      "\u001B[1;31mModuleNotFoundError\u001B[0m: No module named 'kornia.feature.lightglue'"
     ]
    }
   ],
   "execution_count": 7
  },
  {
   "metadata": {},
   "cell_type": "code",
   "outputs": [],
   "execution_count": null,
   "source": ""
  }
 ]
}
